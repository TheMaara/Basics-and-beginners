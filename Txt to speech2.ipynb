{
 "cells": [
  {
   "cell_type": "markdown",
   "id": "cf9e3fbf-3823-4296-b082-7243bb005670",
   "metadata": {},
   "source": [
    "# Text to speech"
   ]
  },
  {
   "cell_type": "markdown",
   "id": "4e074c92-9c2e-4579-8c8f-2022ed4246f6",
   "metadata": {},
   "source": [
    "## Volume adjustment"
   ]
  },
  {
   "cell_type": "code",
   "execution_count": 1,
   "id": "5188d350-0422-436d-8cff-d4334fe5f4ab",
   "metadata": {},
   "outputs": [],
   "source": [
    "import pyttsx3"
   ]
  },
  {
   "cell_type": "code",
   "execution_count": 2,
   "id": "c0e55447-0ee5-45f4-9535-662cec571533",
   "metadata": {},
   "outputs": [],
   "source": [
    "#Defining the engine\n",
    "engine = pyttsx3.init()"
   ]
  },
  {
   "cell_type": "code",
   "execution_count": 3,
   "id": "2c2180c5-d187-4f47-be0a-97f3c08b3248",
   "metadata": {},
   "outputs": [
    {
     "name": "stdout",
     "output_type": "stream",
     "text": [
      "1.0\n"
     ]
    }
   ],
   "source": [
    "volume = engine.getProperty('volume')   #getting to know current volume level (min=0 and max=1)\n",
    "print (volume)                          #printing current volume level\n",
    "engine.setProperty('volume',1.0)    # setting up volume level  between 0 and 1"
   ]
  },
  {
   "cell_type": "markdown",
   "id": "42efb684-e36d-4327-985d-52505af6c308",
   "metadata": {},
   "source": [
    "## Speaking rate adjustment"
   ]
  },
  {
   "cell_type": "code",
   "execution_count": 4,
   "id": "46082387-09be-4dfc-a3fe-527e91f25c6d",
   "metadata": {},
   "outputs": [
    {
     "name": "stdout",
     "output_type": "stream",
     "text": [
      "200\n"
     ]
    }
   ],
   "source": [
    "rate = engine.getProperty('rate')   # getting details of current speaking rate\n",
    "print (rate)                        #printing current voice rate\n",
    "engine.setProperty('rate', 150)     # setting up new voice rate"
   ]
  },
  {
   "cell_type": "markdown",
   "id": "51da669a-e4bb-484c-9a4c-02e79395b06b",
   "metadata": {},
   "source": [
    "## Code to output voice"
   ]
  },
  {
   "cell_type": "code",
   "execution_count": 5,
   "id": "c94bbdfc-da91-4d0b-97be-f56d680f9ff8",
   "metadata": {},
   "outputs": [],
   "source": [
    "text = \"Eat shit.\""
   ]
  },
  {
   "cell_type": "code",
   "execution_count": 7,
   "id": "ddba0c17-8799-4bb0-aeb3-5442d078b909",
   "metadata": {},
   "outputs": [],
   "source": [
    "#Setting the voice\n",
    "voices = engine.getProperty('voices')\n",
    "engine.setProperty('voice', voices[1].id)\n",
    "\n",
    "#Text input\n",
    "engine.say(text)\n",
    "engine.runAndWait()"
   ]
  },
  {
   "cell_type": "markdown",
   "id": "8c1db120-31b8-440d-a97d-033aed584323",
   "metadata": {},
   "source": [
    "## Save the voice recording"
   ]
  },
  {
   "cell_type": "code",
   "execution_count": 31,
   "id": "b31a40c6-158b-42f4-a0e3-dcb4f89dec02",
   "metadata": {},
   "outputs": [],
   "source": [
    "# On linux make sure that 'espeak' and 'ffmpeg' are installed\n",
    "engine.save_to_file('Hello World', 'test.mp3')\n",
    "engine.runAndWait()"
   ]
  }
 ],
 "metadata": {
  "kernelspec": {
   "display_name": "IBMAI2",
   "language": "python",
   "name": "ibmai2"
  },
  "language_info": {
   "codemirror_mode": {
    "name": "ipython",
    "version": 3
   },
   "file_extension": ".py",
   "mimetype": "text/x-python",
   "name": "python",
   "nbconvert_exporter": "python",
   "pygments_lexer": "ipython3",
   "version": "3.9.7"
  }
 },
 "nbformat": 4,
 "nbformat_minor": 5
}
