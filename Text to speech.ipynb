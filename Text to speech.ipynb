{
 "cells": [
  {
   "cell_type": "markdown",
   "id": "4b75681d-dfa7-4e11-88d0-e76d0a64215a",
   "metadata": {},
   "source": [
    "# Text to speech"
   ]
  },
  {
   "cell_type": "code",
   "execution_count": 1,
   "id": "4333d95f-38f7-4afd-8791-e4b39e0f709a",
   "metadata": {},
   "outputs": [],
   "source": [
    "# Import the required module for text\n",
    "# to speech conversion\n",
    "from gtts import gTTS\n",
    "\n",
    "# This module is imported so that we can\n",
    "# play the converted audio\n",
    "\n",
    "\n",
    "\n"
   ]
  },
  {
   "cell_type": "code",
   "execution_count": 8,
   "id": "e883eef6-e9ad-4bc3-8fad-66ea2533c99f",
   "metadata": {},
   "outputs": [],
   "source": [
    "def voice(mytext):\n",
    "    language = 'en'\n",
    "    myobj = gTTS(text=mytext, lang=language, tld= 'com.au' ,slow=False)\n",
    "    myobj.save('australia.mp3')\n"
   ]
  },
  {
   "cell_type": "code",
   "execution_count": 9,
   "id": "11d82ef9-c8a8-45e8-ae78-c886ddb2a4f0",
   "metadata": {},
   "outputs": [],
   "source": [
    "voice(\"Please fuck me. My pussy is so wet I'm slipping in my own juices.\")"
   ]
  },
  {
   "cell_type": "code",
   "execution_count": null,
   "id": "d4961023-a846-4048-9431-4c3d3abea448",
   "metadata": {},
   "outputs": [],
   "source": []
  }
 ],
 "metadata": {
  "kernelspec": {
   "display_name": "IBMAI2",
   "language": "python",
   "name": "ibmai2"
  },
  "language_info": {
   "codemirror_mode": {
    "name": "ipython",
    "version": 3
   },
   "file_extension": ".py",
   "mimetype": "text/x-python",
   "name": "python",
   "nbconvert_exporter": "python",
   "pygments_lexer": "ipython3",
   "version": "3.9.7"
  }
 },
 "nbformat": 4,
 "nbformat_minor": 5
}
